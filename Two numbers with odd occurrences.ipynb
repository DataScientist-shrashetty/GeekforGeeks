{
 "cells": [
  {
   "cell_type": "code",
   "execution_count": null,
   "id": "9d3ca8c4",
   "metadata": {},
   "outputs": [],
   "source": [
    "Two numbers with odd occurrences\n",
    "Given an unsorted array, Arr[] of size N and that contains even number of occurrences for all numbers except two numbers. \n",
    "Find the two numbers in decreasing order which has odd occurrences.\n",
    "Example 1:\n",
    "Input:\n",
    "N = 8\n",
    "Arr = {4, 2, 4, 5, 2, 3, 3, 1}\n",
    "Output: {5, 1} \n",
    "Explaination: 5 and 1 have odd occurrences.\n",
    "Example 2:\n",
    "Input:\n",
    "N = 8\n",
    "Arr = {1 7 5 7 5 4 7 4}\n",
    "Output: {7, 1}\n",
    "Explaination: 7 and 1 have odd occurrences.\n",
    "Your Task:\n",
    "You don't need to read input or print anything. \n",
    "Your task is to complete the function twoOddNum() which takes the array Arr[] and its size N as input parameters and \n",
    "returns the two numbers in decreasing order which have odd occurrences.\n",
    "Expected Time Complexity: O(N)\n",
    "Expected Auxiliary Space: O(1)\n",
    "Constraints:\n",
    "2 ≤ N ≤ 106\n",
    "1 ≤ Arri ≤ 1012"
   ]
  },
  {
   "cell_type": "code",
   "execution_count": null,
   "id": "5bce8c43",
   "metadata": {},
   "outputs": [],
   "source": [
    "Expected Input\n",
    "# N = 8\n",
    "# Arr = [4, 2, 4, 5, 2, 3, 3, 1]\n",
    "# N = 8\n",
    "# Arr = [1, 7, 5, 7, 5, 4, 7, 4]\n",
    "# N =42\n",
    "# Arr = [34, 52, 45, 15, 23, 23, 22, 22, 34, 52, 15, 9, 34, 23, 22, 43, 9, 23, 23, 23, 23, 45, 9, 34, 22, 22, 22, 52, 34, 23, 34, 43, 23, 23, 34, 22, 22, 9, 52, 43, 27, 34]"
   ]
  },
  {
   "cell_type": "code",
   "execution_count": 1,
   "id": "4e94241a",
   "metadata": {},
   "outputs": [
    {
     "name": "stdout",
     "output_type": "stream",
     "text": [
      "[5, 1]\n"
     ]
    }
   ],
   "source": [
    "N = 8\n",
    "Arr = [4, 2, 4, 5, 2, 3, 3, 1]\n",
    "res = []\n",
    "for i in range(0,N):\n",
    "    if (Arr.count(Arr[i]))%2!=0:\n",
    "        if Arr[i] not in res:\n",
    "            res.append(int(Arr[i]))\n",
    "res.sort()\n",
    "res.reverse()\n",
    "print(res)"
   ]
  },
  {
   "cell_type": "code",
   "execution_count": 2,
   "id": "3c919a47",
   "metadata": {},
   "outputs": [
    {
     "name": "stdout",
     "output_type": "stream",
     "text": [
      "[]\n"
     ]
    }
   ],
   "source": [
    "N = 8\n",
    "Arr = [4, 2, 4, 5, 2, 3, 3, 1]\n",
    "res = [i for i in Arr if Arr.count(i)%2!=0 and i not in res]\n",
    "res.sort()\n",
    "res.reverse()\n",
    "print(res)"
   ]
  },
  {
   "cell_type": "code",
   "execution_count": 3,
   "id": "0e680db3",
   "metadata": {},
   "outputs": [
    {
     "name": "stdout",
     "output_type": "stream",
     "text": [
      "[5, 1]\n"
     ]
    }
   ],
   "source": [
    "N = 8\n",
    "Arr = [4, 2, 4, 5, 2, 3, 3, 1]\n",
    "res = sorted(set([int(i) for i in Arr if Arr.count(i)%2!=0]),reverse=True)\n",
    "print(res)"
   ]
  },
  {
   "cell_type": "code",
   "execution_count": 5,
   "id": "51f66538",
   "metadata": {},
   "outputs": [
    {
     "name": "stdout",
     "output_type": "stream",
     "text": [
      "[5, 1]\n"
     ]
    }
   ],
   "source": [
    "N = 8\n",
    "Arr = [4, 2, 4, 5, 2, 3, 3, 1]\n",
    "x=first=last=0\n",
    "for i in Arr:\n",
    "    x = x^i\n",
    "set_bit =x&~(x-1)\n",
    "a = []\n",
    "for i in Arr:\n",
    "    if (i & set_bit):\n",
    "        first = first^i\n",
    "    else:\n",
    "        last = last^i\n",
    "a.append(first)\n",
    "a.append(last)\n",
    "a = sorted(set(a),reverse=True)\n",
    "print(a)"
   ]
  },
  {
   "cell_type": "code",
   "execution_count": null,
   "id": "f1927d7c",
   "metadata": {},
   "outputs": [],
   "source": []
  }
 ],
 "metadata": {
  "kernelspec": {
   "display_name": "Python 3 (ipykernel)",
   "language": "python",
   "name": "python3"
  },
  "language_info": {
   "codemirror_mode": {
    "name": "ipython",
    "version": 3
   },
   "file_extension": ".py",
   "mimetype": "text/x-python",
   "name": "python",
   "nbconvert_exporter": "python",
   "pygments_lexer": "ipython3",
   "version": "3.9.12"
  }
 },
 "nbformat": 4,
 "nbformat_minor": 5
}
