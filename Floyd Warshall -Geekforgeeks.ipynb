{
 "cells": [
  {
   "cell_type": "code",
   "execution_count": null,
   "id": "ad4aa758",
   "metadata": {},
   "outputs": [],
   "source": [
    "The problem is to find the shortest distances between every pair of vertices in a given edge-weighted directed graph. \n",
    "The graph is represented as an adjacency matrix of size n*n. Matrix[i][j] denotes the weight of the edge from i to j. \n",
    "If Matrix[i][j]=-1, it means there is no edge from i to j.\n",
    "Do it in-place.\n",
    "Example 1:\n",
    "Input: matrix = {{0,25},{-1,0}}\n",
    "Output: {{0,25},{-1,0}}\n",
    "Explanation: The shortest distance between\n",
    "every pair is already given(if it exists).\n",
    "Example 2:\n",
    "Input: matrix = {{0,1,43},{1,0,6},{-1,-1,0}}\n",
    "Output: {{0,1,7},{1,0,6},{-1,-1,0}}\n",
    "Explanation: We can reach 2 from 0 as 0->1->2\n",
    "and the cost will be 1+6=7 which is less than \n",
    "43.\n",
    "Your Task:\n",
    "You don't need to read, return or print anything. \n",
    "Your task is to complete the function shortest_distance() which takes the matrix as input parameter and \n",
    "modifies the distances for every pair in-place.\n",
    "Expected Time Complexity: O(n3)\n",
    "Expected Space Complexity: O(1)\n",
    "Constraints:\n",
    "1 <= n <= 100\n",
    "-1 <= matrix[ i ][ j ] <= 1000\n",
    "View Bookmarked Problems \n",
    "Company Tags\n",
    "Samsung\n",
    "Topic Tags\n",
    "Dynamic ProgrammingGraph\n",
    "Related Courses\n",
    "Must Do Coding Questions - Self Paced"
   ]
  },
  {
   "cell_type": "code",
   "execution_count": 5,
   "id": "f3439294",
   "metadata": {},
   "outputs": [
    {
     "name": "stdout",
     "output_type": "stream",
     "text": [
      "2\n",
      "2\n",
      "25 0\n",
      "3 1\n",
      "3 1 \n",
      "3 1 \n",
      "3\n",
      "1 0 -1\n",
      "2 0 -1\n",
      "3 1 1\n",
      "1 0 1 \n",
      "1 0 1 \n",
      "1 0 1 \n"
     ]
    }
   ],
   "source": [
    "class Solution:\n",
    "    def shortest_distance(self, matrix):\n",
    "        n = len(matrix)\n",
    "        for k in range(n):\n",
    "            for i in range(n):\n",
    "                for j in range(n):\n",
    "                    if matrix[i][k]!=-1 and matrix[k][j]!=-1:\n",
    "                        if matrix[i][j]!=-1:\n",
    "                            matrix[i][j] = min(matrix[i][j],matrix[i][k] + matrix[k][j])\n",
    "                        else:\n",
    "                            matrix[i][j] = matrix[i][k]+matrix[k][j]\n",
    "        return matrix\n",
    "if __name__ ==\"__main__\":\n",
    "    T = int(input())\n",
    "    for i in range(T):\n",
    "        n = int(input())\n",
    "        matrix = []\n",
    "        for _ in range(n):\n",
    "            matrix.append(list(map(int,input().split())))\n",
    "        obj = Solution()\n",
    "        obj.shortest_distance(matrix)\n",
    "        for _ in range(n):\n",
    "            for _ in range(n):\n",
    "                print(matrix[_][_],end=\" \")\n",
    "            print()"
   ]
  },
  {
   "cell_type": "code",
   "execution_count": null,
   "id": "873a3fd4",
   "metadata": {},
   "outputs": [],
   "source": []
  },
  {
   "cell_type": "code",
   "execution_count": null,
   "id": "90effff8",
   "metadata": {},
   "outputs": [],
   "source": []
  }
 ],
 "metadata": {
  "kernelspec": {
   "display_name": "Python 3 (ipykernel)",
   "language": "python",
   "name": "python3"
  },
  "language_info": {
   "codemirror_mode": {
    "name": "ipython",
    "version": 3
   },
   "file_extension": ".py",
   "mimetype": "text/x-python",
   "name": "python",
   "nbconvert_exporter": "python",
   "pygments_lexer": "ipython3",
   "version": "3.9.12"
  }
 },
 "nbformat": 4,
 "nbformat_minor": 5
}
