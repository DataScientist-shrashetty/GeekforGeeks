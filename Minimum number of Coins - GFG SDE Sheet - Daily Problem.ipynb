{
 "cells": [
  {
   "cell_type": "code",
   "execution_count": 1,
   "id": "530055c8",
   "metadata": {},
   "outputs": [
    {
     "name": "stdout",
     "output_type": "stream",
     "text": [
      "2\n",
      "43\n",
      "202021\n",
      "9000\n",
      "2000200020002000500500\n"
     ]
    }
   ],
   "source": [
    "Given an infinite supply of each denomination of Indian currency { 1, 2, 5, 10, 20, 50, 100, 200, 500, 2000 } and \n",
    "a target value N.\n",
    "Find the minimum number of coins and/or notes needed to make the change for Rs N. \n",
    "You must return the list containing the value of coins required. \n",
    "Example 1:\n",
    "Input: N = 43\n",
    "Output: 20 20 2 1\n",
    "Explaination: \n",
    "Minimum number of coins and notes needed \n",
    "to make 43. \n",
    "Example 2:\n",
    "Input: N = 1000\n",
    "Output: 500 500\n",
    "Explaination: minimum possible notes\n",
    "is 2 notes of 500.\n",
    "Your Task:\n",
    "You do not need to read input or print anything. Your task is to complete the function minPartition() which takes the value N \n",
    "as input parameter and returns a list of integers in decreasing order.\n",
    "Expected Time Complexity: O(N)\n",
    "Expected Auxiliary Space: O(N)\n",
    "Constraints:\n",
    "1 ≤ N ≤ 106\n",
    "Company Tags\n",
    "Visa"
   ]
  },
  {
   "cell_type": "code",
   "execution_count": null,
   "id": "3418c33b",
   "metadata": {},
   "outputs": [],
   "source": [
    "import sys\n",
    "class Solution:\n",
    "    def minPartition(self, N):\n",
    "        deno = [2000,500,200,100,50,20,10,5,2,1]\n",
    "        ans = []\n",
    "        i = 0\n",
    "        for i in deno:\n",
    "            while N>=0 and N>=i:\n",
    "                    N = N-i\n",
    "                    ans.append(i)\n",
    "        return ans\n",
    "if __name__==\"__main__\":\n",
    "    t = int(input())\n",
    "    for _ in range(t):\n",
    "        N=int(input())\n",
    "        ob = Solution()\n",
    "        arr = ob.minPartition(N)\n",
    "        for i in range(len(arr)):\n",
    "            print(arr[i],end=\" \")\n",
    "        print()"
   ]
  }
 ],
 "metadata": {
  "kernelspec": {
   "display_name": "Python 3 (ipykernel)",
   "language": "python",
   "name": "python3"
  },
  "language_info": {
   "codemirror_mode": {
    "name": "ipython",
    "version": 3
   },
   "file_extension": ".py",
   "mimetype": "text/x-python",
   "name": "python",
   "nbconvert_exporter": "python",
   "pygments_lexer": "ipython3",
   "version": "3.9.12"
  }
 },
 "nbformat": 4,
 "nbformat_minor": 5
}
