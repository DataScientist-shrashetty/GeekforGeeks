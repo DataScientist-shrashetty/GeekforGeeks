{
 "cells": [
  {
   "cell_type": "code",
   "execution_count": null,
   "id": "d9edd07e",
   "metadata": {},
   "outputs": [],
   "source": [
    "Grouping Of Numbers\n",
    "One day Jim came across array arr[] of N numbers. \n",
    "He decided to divide these N numbers into different groups. \n",
    "Each group contains numbers in which sum of any two numbers should not be divisible by an integer K. \n",
    "Print the size of the group containing maximum numbers.\n",
    "Example 1:\n",
    "Input:\n",
    "N = 4, K = 8\n",
    "arr[] = {1, 7, 2, 6}\n",
    "Output:\n",
    "2\n",
    "Explanation:\n",
    "The  group of numbers which can be formed\n",
    "are: (1),(2),(7),(6),(1,2),(1,6),(7,2),(7,6).\n",
    "So,the maximum possible size of the group is 2.\n",
    "Example 2:\n",
    "Input:\n",
    "N = 2, K = 3\n",
    "arr[] = {1, 2}\n",
    "Output:\n",
    "1\n",
    "Explanation:\n",
    "The  group of numbers which can be formed\n",
    "are: (1),(2). So,the maximum possible size\n",
    "of the group is 1.\n",
    "Your Task:\n",
    "You don't need to read input or print anything. \n",
    "Your task is to complete the function maxGroupSize() which takes 2 Integers N, and K \n",
    "and also an array arr[] of N integers as input and returns the maximum group size possible.\n",
    "Expected Time Complexity: O(N)\n",
    "Expected Auxiliary Space: O(K)\n",
    "Constraints:\n",
    "1 ≤ N,K,arr[i] ≤ 105\n"
   ]
  },
  {
   "cell_type": "code",
   "execution_count": 9,
   "id": "bd0adb26",
   "metadata": {},
   "outputs": [
    {
     "name": "stdout",
     "output_type": "stream",
     "text": [
      "1\n",
      "2\n",
      "3\n",
      "1 2\n",
      "1\n"
     ]
    }
   ],
   "source": [
    "class Solution:\n",
    "    def maxGroupSize(self, arr, N, K):\n",
    "        if N == 1:\n",
    "            return 1\n",
    "        a = [0]*K\n",
    "        for i in range(N):\n",
    "            a[arr[i]%K] += 1\n",
    "        summ = 0\n",
    "        if a[0]>0:\n",
    "            summ += 1\n",
    "        for i in range(1,(K+1)//2):\n",
    "            summ += max(a[i],a[K-i])\n",
    "        if K%2==0 and a[K//2]>0:\n",
    "            summ += 1\n",
    "            pass\n",
    "        return summ\n",
    "if __name__ == \"__main__\":\n",
    "    t = int(input())\n",
    "    for _ in range(t):\n",
    "        # N,K = map(int(input().split()))\n",
    "        N = int(input())\n",
    "        K = int(input())\n",
    "        arr = list(map(int,input().split()))\n",
    "        ob = Solution()\n",
    "        print(ob.maxGroupSize(arr,N,K))"
   ]
  },
  {
   "cell_type": "code",
   "execution_count": null,
   "id": "be3c083d",
   "metadata": {},
   "outputs": [],
   "source": []
  }
 ],
 "metadata": {
  "kernelspec": {
   "display_name": "Python 3 (ipykernel)",
   "language": "python",
   "name": "python3"
  },
  "language_info": {
   "codemirror_mode": {
    "name": "ipython",
    "version": 3
   },
   "file_extension": ".py",
   "mimetype": "text/x-python",
   "name": "python",
   "nbconvert_exporter": "python",
   "pygments_lexer": "ipython3",
   "version": "3.9.12"
  }
 },
 "nbformat": 4,
 "nbformat_minor": 5
}
